{
 "cells": [
  {
   "cell_type": "code",
   "execution_count": 2,
   "metadata": {},
   "outputs": [
    {
     "data": {
      "text/plain": [
       "<module 'GCMdeliverables' from 'c:\\\\Users\\\\shenx\\\\Desktop\\\\GCMdeliv\\\\GCMdeliverables.py'>"
      ]
     },
     "execution_count": 2,
     "metadata": {},
     "output_type": "execute_result"
    }
   ],
   "source": [
    "import numpy as np\n",
    "import GCMdeliverables\n",
    "import importlib\n",
    "import matplotlib.pyplot as plt\n",
    "from scipy import stats\n",
    "from sklearn.linear_model import LassoCV, MultiTaskLassoCV\n",
    "importlib.reload(GCMdeliverables)"
   ]
  },
  {
   "cell_type": "code",
   "execution_count": 153,
   "metadata": {},
   "outputs": [],
   "source": [
    "\"Testing for one dim\"\n",
    "p = []\n",
    "for i in range(200):\n",
    "    X = np.random.uniform(size = 200)\n",
    "    Y = np.random.randn(200)\n",
    "    Z = np.random.chisquare(4, size = 200)\n",
    "    pval = GCMdeliverables.GCM_translation(X, Y, Z)\n",
    "    p.append(pval)"
   ]
  },
  {
   "cell_type": "code",
   "execution_count": 154,
   "metadata": {},
   "outputs": [
    {
     "name": "stdout",
     "output_type": "stream",
     "text": [
      "0.04\n"
     ]
    },
    {
     "data": {
      "image/png": "[encoded data removed]",
      "text/plain": [
       "<Figure size 432x288 with 1 Axes>"
      ]
     },
     "metadata": {
      "needs_background": "light"
     },
     "output_type": "display_data"
    }
   ],
   "source": [
    "p = np.asarray(p)\n",
    "plt.hist(p, range = [0, 1], bins = 20)\n",
    "print(np.mean(p <= 0.05)) # Type-I error rate"
   ]
  },
  {
   "cell_type": "code",
   "execution_count": 155,
   "metadata": {},
   "outputs": [],
   "source": [
    "\"Testing for one dim\"\n",
    "p = []\n",
    "for i in range(200):\n",
    "    Z = np.random.chisquare(4, size = 300)\n",
    "    X = np.random.uniform(size = 300) + Z\n",
    "    Y = np.random.randn(300) + Z\n",
    "    pval = GCMdeliverables.GCM_translation(X, Y, Z)\n",
    "    p.append(pval)"
   ]
  },
  {
   "cell_type": "code",
   "execution_count": 156,
   "metadata": {},
   "outputs": [
    {
     "name": "stdout",
     "output_type": "stream",
     "text": [
      "0.015\n"
     ]
    },
    {
     "data": {
      "image/png": "[encoded data removed]",
      "text/plain": [
       "<Figure size 432x288 with 1 Axes>"
      ]
     },
     "metadata": {
      "needs_background": "light"
     },
     "output_type": "display_data"
    }
   ],
   "source": [
    "p = np.asarray(p)\n",
    "plt.hist(p, range = [0, 1], bins = 20)\n",
    "print(np.mean(p <= 0.05)) # Type-I error rate"
   ]
  },
  {
   "cell_type": "code",
   "execution_count": 157,
   "metadata": {},
   "outputs": [],
   "source": [
    "\"Testing for one dim\"\n",
    "p = []\n",
    "for i in range(200):\n",
    "    Z = np.random.chisquare(4, size = 200)\n",
    "    X = np.random.uniform(size = 200) + Z\n",
    "    Y = np.random.randn(200) + Z + X\n",
    "    pval = GCMdeliverables.GCM_translation(X, Y, Z)\n",
    "    p.append(pval)"
   ]
  },
  {
   "cell_type": "code",
   "execution_count": 158,
   "metadata": {},
   "outputs": [
    {
     "name": "stdout",
     "output_type": "stream",
     "text": [
      "1.0\n"
     ]
    },
    {
     "data": {
      "image/png": "[encoded data removed]",
      "text/plain": [
       "<Figure size 432x288 with 1 Axes>"
      ]
     },
     "metadata": {
      "needs_background": "light"
     },
     "output_type": "display_data"
    }
   ],
   "source": [
    "p = np.asarray(p)\n",
    "plt.hist(p, range = [0, 1], bins = 20)\n",
    "print(np.mean(p <= 0.05)) # Power"
   ]
  },
  {
   "cell_type": "code",
   "execution_count": 4,
   "metadata": {},
   "outputs": [],
   "source": [
    "\"Testing for one dim\"\n",
    "p = []\n",
    "for i in range(200):\n",
    "    Z = np.random.chisquare(4, size = 2000)\n",
    "    X = np.random.uniform(size = 2000) + Z\n",
    "    Y = np.random.randn(2000) + np.sin(Z) + np.sin(X)\n",
    "    pval = GCMdeliverables.GCM_translation(X, Y, Z)\n",
    "    p.append(pval)"
   ]
  },
  {
   "cell_type": "code",
   "execution_count": 5,
   "metadata": {},
   "outputs": [
    {
     "name": "stdout",
     "output_type": "stream",
     "text": [
      "0.29\n"
     ]
    },
    {
     "data": {
      "image/png": "[encoded data removed]",
      "text/plain": [
       "<Figure size 432x288 with 1 Axes>"
      ]
     },
     "metadata": {
      "needs_background": "light"
     },
     "output_type": "display_data"
    }
   ],
   "source": [
    "p = np.asarray(p)\n",
    "plt.hist(p, range = [0, 1], bins = 20)\n",
    "print(np.mean(p < 0.05)) # Power"
   ]
  },
  {
   "cell_type": "code",
   "execution_count": 164,
   "metadata": {},
   "outputs": [],
   "source": [
    "\"Testing for high dim\"\n",
    "p = []\n",
    "for i in range(200):\n",
    "    Z = np.random.normal(size = (300, 3))\n",
    "    Y = np.random.uniform(low = -100, high = 100, size = (300, 3))\n",
    "    X = np.cos(Z) + Y + np.random.normal(loc = 0.25, size = (300, 3))\n",
    "    pval = GCMdeliverables.GCM_translation(X, Y, Z)\n",
    "    p.append(pval)"
   ]
  },
  {
   "cell_type": "code",
   "execution_count": 165,
   "metadata": {},
   "outputs": [
    {
     "name": "stdout",
     "output_type": "stream",
     "text": [
      "1.0\n"
     ]
    },
    {
     "data": {
      "image/png": "[encoded data removed]",
      "text/plain": [
       "<Figure size 432x288 with 1 Axes>"
      ]
     },
     "metadata": {
      "needs_background": "light"
     },
     "output_type": "display_data"
    }
   ],
   "source": [
    "p = np.asarray(p)\n",
    "plt.hist(p, range = [0, 1], bins = 20)\n",
    "print(np.mean(p < 0.05)) # Power"
   ]
  }
 ],
 "metadata": {
  "interpreter": {
   "hash": "4953405f11a4b1413464cf1c8dd90135f86ae0dd03e675b3cdf5a5d90a509dd4"
  },
  "kernelspec": {
   "display_name": "Python 3.9.7 ('base')",
   "language": "python",
   "name": "python3"
  },
  "language_info": {
   "codemirror_mode": {
    "name": "ipython",
    "version": 3
   },
   "file_extension": ".py",
   "mimetype": "text/x-python",
   "name": "python",
   "nbconvert_exporter": "python",
   "pygments_lexer": "ipython3",
   "version": "3.9.7"
  },
  "orig_nbformat": 4
 },
 "nbformat": 4,
 "nbformat_minor": 2
}
